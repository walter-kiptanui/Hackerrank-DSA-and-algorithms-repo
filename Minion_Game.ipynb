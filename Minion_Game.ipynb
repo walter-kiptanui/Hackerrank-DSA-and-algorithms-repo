{
 "cells": [
  {
   "cell_type": "markdown",
   "id": "563f68bd-0697-4a64-a31d-cf2e06994d56",
   "metadata": {},
   "source": [
    "Ke"
   ]
  },
  {
   "cell_type": "code",
   "execution_count": null,
   "id": "e000f12a-4564-408e-8291-791e30d1b094",
   "metadata": {},
   "outputs": [],
   "source": [
    "def minion_game(S):\n",
    "    kevin_score = 0\n",
    "    stuart_score = 0\n",
    "    for i in range(len(S)):\n",
    "        if S[i] in \"AEIOU\":\n",
    "            kevin_score += len(S) - i\n",
    "        else:\n",
    "            stuart_score += len(S) -i\n",
    "    if kevin_score > stuart_score:\n",
    "        print(\"Kevin\", kevin_score)\n",
    "    elif kevin_score < stuart_score:\n",
    "        print(\"Stuart\", stuart_score)\n",
    "    else:\n",
    "        print(\"Draw\")\n",
    "\n",
    "if __name__ == '__main__':\n",
    "    S = input()\n",
    "    minion_game(S)"
   ]
  }
 ],
 "metadata": {
  "kernelspec": {
   "display_name": "Python 3 (ipykernel)",
   "language": "python",
   "name": "python3"
  },
  "language_info": {
   "codemirror_mode": {
    "name": "ipython",
    "version": 3
   },
   "file_extension": ".py",
   "mimetype": "text/x-python",
   "name": "python",
   "nbconvert_exporter": "python",
   "pygments_lexer": "ipython3",
   "version": "3.11.7"
  }
 },
 "nbformat": 4,
 "nbformat_minor": 5
}
