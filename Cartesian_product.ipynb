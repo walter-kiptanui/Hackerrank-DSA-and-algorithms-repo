{
 "cells": [
  {
   "cell_type": "code",
   "execution_count": 2,
   "id": "17f52815-3009-4315-b38e-7e790c861ddd",
   "metadata": {},
   "outputs": [
    {
     "name": "stdin",
     "output_type": "stream",
     "text": [
      " 2 3 5 6 6\n",
      "  4 6 3 1 6\n"
     ]
    },
    {
     "name": "stdout",
     "output_type": "stream",
     "text": [
      "(2, 1) (2, 3) (2, 4) (2, 6) (2, 6) (3, 1) (3, 3) (3, 4) (3, 6) (3, 6) (5, 1) (5, 3) (5, 4) (5, 6) (5, 6) (6, 1) (6, 3) (6, 4) (6, 6) (6, 6) (6, 1) (6, 3) (6, 4) (6, 6) (6, 6)\n"
     ]
    }
   ],
   "source": [
    "from itertools import product\n",
    "\n",
    "def cartesian_product(A, B):\n",
    "    if 0 < len(A) < 30 and 0 < len(B) < 30:\n",
    "        result = product(A, B)  # Compute the cartesian product\n",
    "        return \" \".join(map(str, result))  # Format as space-separated tuples\n",
    "    else:\n",
    "        return \"Invalid Input\"\n",
    "\n",
    "if __name__ == '__main__':\n",
    "    A = list(map(int, input(\"Enter the space separated values of A\").split()))\n",
    "    B = list(map(int, input(\"Enter the space separated values of B\").split()))\n",
    "    \n",
    "    #Sort the lists\n",
    "    A.sort()\n",
    "    B.sort()\n",
    "    \n",
    "    # Compute and print the result\n",
    "    answer = cartesian_product(A, B)\n",
    "    print(answer)\n"
   ]
  },
  {
   "cell_type": "code",
   "execution_count": null,
   "id": "b597ab0d-a749-4074-b102-0cae84fd01a2",
   "metadata": {},
   "outputs": [],
   "source": []
  }
 ],
 "metadata": {
  "kernelspec": {
   "display_name": "Python 3 (ipykernel)",
   "language": "python",
   "name": "python3"
  },
  "language_info": {
   "codemirror_mode": {
    "name": "ipython",
    "version": 3
   },
   "file_extension": ".py",
   "mimetype": "text/x-python",
   "name": "python",
   "nbconvert_exporter": "python",
   "pygments_lexer": "ipython3",
   "version": "3.11.7"
  }
 },
 "nbformat": 4,
 "nbformat_minor": 5
}
