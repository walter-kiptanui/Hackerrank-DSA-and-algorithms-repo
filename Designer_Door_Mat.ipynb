{
 "cells": [
  {
   "cell_type": "code",
   "execution_count": 4,
   "id": "17f52815-3009-4315-b38e-7e790c861ddd",
   "metadata": {},
   "outputs": [
    {
     "name": "stdin",
     "output_type": "stream",
     "text": [
      "Enter N and M separated by a space: 15 45\n"
     ]
    },
    {
     "name": "stdout",
     "output_type": "stream",
     "text": [
      "---------------------.|.---------------------\n",
      "------------------.|..|..|.------------------\n",
      "---------------.|..|..|..|..|.---------------\n",
      "------------.|..|..|..|..|..|..|.------------\n",
      "---------.|..|..|..|..|..|..|..|..|.---------\n",
      "------.|..|..|..|..|..|..|..|..|..|..|.------\n",
      "---.|..|..|..|..|..|..|..|..|..|..|..|..|.---\n",
      "-------------------WELCOME-------------------\n",
      "---.|..|..|..|..|..|..|..|..|..|..|..|..|.---\n",
      "------.|..|..|..|..|..|..|..|..|..|..|.------\n",
      "---------.|..|..|..|..|..|..|..|..|.---------\n",
      "------------.|..|..|..|..|..|..|.------------\n",
      "---------------.|..|..|..|..|.---------------\n",
      "------------------.|..|..|.------------------\n",
      "---------------------.|.---------------------\n"
     ]
    }
   ],
   "source": [
    "# Enter your code here. Read input from STDIN. Print output to STDOUT\n",
    "def print_door_mat(N, M):\n",
    "  pattern = \".|.\"\n",
    "  string = 'WELCOME'\n",
    "  for i in range(1, N, 2):\n",
    "    pattern = \".|.\" * i\n",
    "    print(pattern.center(M, '-'))\n",
    "\n",
    "  print(string.center(M, '-'))\n",
    "\n",
    "  for i in range(N-2, 0, -2):\n",
    "    pattern = \".|.\" * i\n",
    "    print(pattern.center(M, '-'))\n",
    "\n",
    "\n",
    "if __name__ == '__main__':\n",
    "  N, M = map(int, input(\"Enter N and M separated by a space:\").split())\n",
    "  if N%2 == 1 and M == 3*N:\n",
    "    print_door_mat(N, M)\n",
    "  else:\n",
    "    print(\"Invalid Input\")"
   ]
  },
  {
   "cell_type": "code",
   "execution_count": null,
   "id": "b597ab0d-a749-4074-b102-0cae84fd01a2",
   "metadata": {},
   "outputs": [],
   "source": []
  }
 ],
 "metadata": {
  "kernelspec": {
   "display_name": "Python 3 (ipykernel)",
   "language": "python",
   "name": "python3"
  },
  "language_info": {
   "codemirror_mode": {
    "name": "ipython",
    "version": 3
   },
   "file_extension": ".py",
   "mimetype": "text/x-python",
   "name": "python",
   "nbconvert_exporter": "python",
   "pygments_lexer": "ipython3",
   "version": "3.11.7"
  }
 },
 "nbformat": 4,
 "nbformat_minor": 5
}
