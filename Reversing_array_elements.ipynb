{
 "cells": [
  {
   "cell_type": "code",
   "execution_count": 1,
   "id": "17f52815-3009-4315-b38e-7e790c861ddd",
   "metadata": {},
   "outputs": [
    {
     "ename": "IndentationError",
     "evalue": "expected an indented block after function definition on line 3 (2206752371.py, line 4)",
     "output_type": "error",
     "traceback": [
      "\u001b[1;36m  Cell \u001b[1;32mIn[1], line 4\u001b[1;36m\u001b[0m\n\u001b[1;33m    return arr[::-1]\u001b[0m\n\u001b[1;37m    ^\u001b[0m\n\u001b[1;31mIndentationError\u001b[0m\u001b[1;31m:\u001b[0m expected an indented block after function definition on line 3\n"
     ]
    }
   ],
   "source": [
    "#Code to reverse the numbers in an array using functions\n",
    "#Method 1\n",
    "def reverse_array(arr): \n",
    "return arr[::-1]\n",
    "\n",
    "if __name__ == '__main__':\n",
    "    arr = list(map(int, input(\"Input the numbers in the array\").split()))\n",
    "    print(reverse_array(arr))\n",
    "\n",
    "\n",
    "#Method 2\n",
    "def reverse_array(arr):\n",
    "    reversed_arr = []\n",
    "    for i in range(len(arr) - 1, -1, -1):  # Iterate backward\n",
    "        reversed_arr.append(arr[i])\n",
    "    return reversed_arr\n",
    "\n",
    "if __name__ == '__main__':\n",
    "    arr = list(map(int, input(\"Input the numbers in the array\").split()))\n",
    "    print(reverse_array(arr))\n",
    "\n"
   ]
  },
  {
   "cell_type": "code",
   "execution_count": null,
   "id": "b597ab0d-a749-4074-b102-0cae84fd01a2",
   "metadata": {},
   "outputs": [],
   "source": []
  }
 ],
 "metadata": {
  "kernelspec": {
   "display_name": "Python 3 (ipykernel)",
   "language": "python",
   "name": "python3"
  },
  "language_info": {
   "codemirror_mode": {
    "name": "ipython",
    "version": 3
   },
   "file_extension": ".py",
   "mimetype": "text/x-python",
   "name": "python",
   "nbconvert_exporter": "python",
   "pygments_lexer": "ipython3",
   "version": "3.11.7"
  }
 },
 "nbformat": 4,
 "nbformat_minor": 5
}
